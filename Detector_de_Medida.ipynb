{
 "cells": [
  {
   "cell_type": "markdown",
   "metadata": {},
   "source": [
    "Instalação das bilbiotecas\n",
    "================="
   ]
  },
  {
   "cell_type": "code",
   "execution_count": 1,
   "metadata": {},
   "outputs": [
    {
     "name": "stdout",
     "output_type": "stream",
     "text": [
      "Requirement already satisfied: mediapipe in c:\\users\\marcos\\anaconda3\\envs\\pythoncpu\\lib\\site-packages (0.8.3)\n",
      "Requirement already satisfied: opencv-python in c:\\users\\marcos\\anaconda3\\envs\\pythoncpu\\lib\\site-packages (4.5.4.58)\n",
      "Requirement already satisfied: wheel in c:\\users\\marcos\\anaconda3\\envs\\pythoncpu\\lib\\site-packages (from mediapipe) (0.35.1)\n",
      "Requirement already satisfied: absl-py in c:\\users\\marcos\\anaconda3\\envs\\pythoncpu\\lib\\site-packages (from mediapipe) (0.10.0)\n",
      "Requirement already satisfied: dataclasses in c:\\users\\marcos\\anaconda3\\envs\\pythoncpu\\lib\\site-packages (from mediapipe) (0.8)\n",
      "Requirement already satisfied: six in c:\\users\\marcos\\anaconda3\\envs\\pythoncpu\\lib\\site-packages (from mediapipe) (1.15.0)\n",
      "Requirement already satisfied: protobuf>=3.11.4 in c:\\users\\marcos\\anaconda3\\envs\\pythoncpu\\lib\\site-packages (from mediapipe) (3.13.0)\n",
      "Requirement already satisfied: attrs in c:\\users\\marcos\\anaconda3\\envs\\pythoncpu\\lib\\site-packages (from mediapipe) (20.2.0)\n",
      "Requirement already satisfied: numpy==1.19.3 in c:\\users\\marcos\\anaconda3\\envs\\pythoncpu\\lib\\site-packages (from mediapipe) (1.19.3)\n",
      "Requirement already satisfied: setuptools in c:\\users\\marcos\\anaconda3\\envs\\pythoncpu\\lib\\site-packages (from protobuf>=3.11.4->mediapipe) (49.6.0.post20200917)\n"
     ]
    }
   ],
   "source": [
    "!pip install mediapipe opencv-python"
   ]
  },
  {
   "cell_type": "markdown",
   "metadata": {},
   "source": [
    "Importação das bibliotecas\n",
    "================="
   ]
  },
  {
   "cell_type": "code",
   "execution_count": 2,
   "metadata": {},
   "outputs": [],
   "source": [
    "import cv2\n",
    "import mediapipe as mp\n",
    "import numpy as np\n",
    "mp_drawing = mp.solutions.drawing_utils\n",
    "mp_pose = mp.solutions.pose"
   ]
  },
  {
   "cell_type": "markdown",
   "metadata": {},
   "source": [
    "Definição do método da distância do tronco\n",
    "================="
   ]
  },
  {
   "cell_type": "code",
   "execution_count": 87,
   "metadata": {},
   "outputs": [],
   "source": [
    "def dist_upper_body(shoulder,hip):\n",
    "    shoulder = np.array(shoulder)\n",
    "    hip = np.array(hip)\n",
    "    \n",
    "    distance = abs(((shoulder[1] - hip[1])/2)) * 80 \n",
    "    \n",
    "    return distance"
   ]
  },
  {
   "cell_type": "markdown",
   "metadata": {},
   "source": [
    "Reconhecimento das medidas\n",
    "================="
   ]
  },
  {
   "cell_type": "code",
   "execution_count": 95,
   "metadata": {},
   "outputs": [],
   "source": [
    "cap = cv2.VideoCapture(0)\n",
    "\n",
    "# Curl counter variables\n",
    "counter = 0 \n",
    "stage = None\n",
    "header = None\n",
    "second_header = None\n",
    "third_header = None\n",
    "color  = 0\n",
    "\n",
    "## Setup mediapipe instance\n",
    "with mp_pose.Pose(min_detection_confidence=0.5, min_tracking_confidence=0.5) as pose:\n",
    "    while cap.isOpened():\n",
    "        ret, frame = cap.read()\n",
    "        \n",
    "        # Recolor image to RGB\n",
    "        image = cv2.cvtColor(frame, cv2.COLOR_BGR2RGB)\n",
    "        image.flags.writeable = False\n",
    "      \n",
    "        # Make detection\n",
    "        results = pose.process(image)\n",
    "    \n",
    "        # Recolor back to BGR\n",
    "        image.flags.writeable = True\n",
    "        image = cv2.cvtColor(image, cv2.COLOR_RGB2BGR)\n",
    "        \n",
    "        # Extract landmarks\n",
    "        try:\n",
    "            landmarks = results.pose_landmarks.landmark\n",
    "            \n",
    "            # Get coordinates\n",
    "            shoulder = [landmarks[mp_pose.PoseLandmark.LEFT_SHOULDER.value].x,landmarks[mp_pose.PoseLandmark.LEFT_SHOULDER.value].y]\n",
    "            wrist = [landmarks[mp_pose.PoseLandmark.LEFT_WRIST.value].x,landmarks[mp_pose.PoseLandmark.LEFT_WRIST.value].y]\n",
    "            hip_visibility = [landmarks[mp_pose.PoseLandmark.RIGHT_HIP.value].visibility, landmarks[mp_pose.PoseLandmark.LEFT_HIP.value].visibility]\n",
    "            width_shoulder = (landmarks[mp_pose.PoseLandmark.LEFT_SHOULDER.value].x - landmarks[mp_pose.PoseLandmark.RIGHT_SHOULDER.value].x) * 200            \n",
    "            width_hip = (landmarks[mp_pose.PoseLandmark.LEFT_HIP.value].x - landmarks[mp_pose.PoseLandmark.RIGHT_HIP.value].x) * 240\n",
    "            \n",
    "            \n",
    "            #Size of upper body\n",
    "            size_body = dist_upper_body(shoulder, hip)\n",
    "            \n",
    "            #Teste de distância\n",
    "            if (hip_visibility[0] > 1 or hip_visibility[0] < 0.8) and (hip_visibility[1] > 1 or hip_visibility[1] < 0.8):\n",
    "                header = 'Se afaste'\n",
    "                second_header = None\n",
    "                third_header = \"\"\n",
    "                color = (17, 17, 244) #vermelho\n",
    "            else:\n",
    "                header = \"{}cm de ombro.\".format(round(width_shoulder,0)) \n",
    "                second_header = \"{}cm de largura da cintura.\".format(round(width_hip,0))\n",
    "                third_header = \"{}cm tamanho do tronco.\".format(round(size_body,0))                \n",
    "                color = (66, 191, 79) #verde\n",
    "                                \n",
    "        except:\n",
    "            pass\n",
    "        \n",
    "                            #1 vert   2 vert    BGR\n",
    "        cv2.rectangle(image, (640,65), (0,0), color, -1)\n",
    "        \n",
    "        # Stage data\n",
    "        cv2.putText(image, 'Status', (60,12), \n",
    "                    cv2.FONT_HERSHEY_SIMPLEX, 0.5, (0,0,0), 1, cv2.LINE_AA)\n",
    "        cv2.putText(image, header, (60,30),\n",
    "                    cv2.FONT_HERSHEY_SIMPLEX, 0.5, (0,0,0), 1, cv2.LINE_AA)\n",
    "        cv2.putText(image, second_header, (60,60),\n",
    "                   cv2.FONT_HERSHEY_SIMPLEX, 0.5, (0,0,0), 1, cv2.LINE_AA)\n",
    "        cv2.putText(image, str(third_header), (320,30),\n",
    "                   cv2.FONT_HERSHEY_SIMPLEX, 0.5, (0,0,0), 1, cv2.LINE_AA)\n",
    "\n",
    "        \n",
    "        \n",
    "        # Render detections\n",
    "        mp_drawing.draw_landmarks(image, results.pose_landmarks, mp_pose.POSE_CONNECTIONS,\n",
    "                                mp_drawing.DrawingSpec(color=(245,117,66), thickness=2, circle_radius=2), \n",
    "                                mp_drawing.DrawingSpec(color=(245,66,230), thickness=2, circle_radius=2) \n",
    "                                 )               \n",
    "        \n",
    "        cv2.imshow('Detector de Medida', image)\n",
    "\n",
    "        if cv2.waitKey(10) & 0xFF == ord('q'):\n",
    "            break\n",
    "\n",
    "    cap.release()\n",
    "    cv2.destroyAllWindows()\n",
    "    \n",
    "    #Marcos\n",
    "    #42cm de ombro\n",
    "    #49cm do ombro até a cintura\n",
    "    #31cm da largura da cintura"
   ]
  },
  {
   "cell_type": "code",
   "execution_count": null,
   "metadata": {},
   "outputs": [],
   "source": []
  }
 ],
 "metadata": {
  "kernelspec": {
   "display_name": "Python 3",
   "language": "python",
   "name": "python3"
  },
  "language_info": {
   "codemirror_mode": {
    "name": "ipython",
    "version": 3
   },
   "file_extension": ".py",
   "mimetype": "text/x-python",
   "name": "python",
   "nbconvert_exporter": "python",
   "pygments_lexer": "ipython3",
   "version": "3.6.10"
  }
 },
 "nbformat": 4,
 "nbformat_minor": 4
}
